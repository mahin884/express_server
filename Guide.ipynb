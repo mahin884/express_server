{
 "cells": [
  {
   "cell_type": "markdown",
   "metadata": {
    "editable": false
   },
   "source": [
    "# Lesson 2 Exercises"
   ]
  },
  {
   "cell_type": "markdown",
   "metadata": {
    "editable": false
   },
   "source": [
    "## L2- Set 1"
   ]
  },
  {
   "cell_type": "markdown",
   "metadata": {
    "editable": false
   },
   "source": [
    "#### In this set of exercises you will be demonstrating your ability to install dependencies for a Node.js project. Good luck!"
   ]
  },
  {
   "cell_type": "markdown",
   "metadata": {
    "editable": false
   },
   "source": [
    "1) Double check node is installed by checking the node version in the terminal."
   ]
  },
  {
   "cell_type": "markdown",
   "metadata": {
    "editable": false,
    "toggleable": true,
    "ulab": {
     "buttons": {
      "ulab-button-toggle-1046f860": {
       "style": "primary"
      }
     }
    }
   },
   "source": [
    "`node --version`"
   ]
  },
  {
   "cell_type": "markdown",
   "metadata": {
    "editable": false
   },
   "source": [
    "2) Install the `cors` package from the terminal."
   ]
  },
  {
   "cell_type": "markdown",
   "metadata": {
    "editable": false,
    "toggleable": true,
    "ulab": {
     "buttons": {
      "ulab-button-toggle-a4335705": {
       "style": "primary"
      }
     }
    }
   },
   "source": [
    "`npm install cors`"
   ]
  },
  {
   "cell_type": "markdown",
   "metadata": {
    "editable": false
   },
   "source": [
    "3) Install the `body-parser` package from the terminal"
   ]
  },
  {
   "cell_type": "markdown",
   "metadata": {
    "editable": false,
    "toggleable": true,
    "ulab": {
     "buttons": {
      "ulab-button-toggle-0c66c58a": {
       "style": "primary"
      }
     }
    }
   },
   "source": [
    "`npm install body-parser`"
   ]
  },
  {
   "cell_type": "markdown",
   "metadata": {
    "editable": false
   },
   "source": [
    "<!--\n",
    "%%ulab_page_divider\n",
    "--><hr/>"
   ]
  },
  {
   "cell_type": "markdown",
   "metadata": {
    "editable": false
   },
   "source": [
    "## L2- Set 2"
   ]
  },
  {
   "cell_type": "markdown",
   "metadata": {
    "editable": false
   },
   "source": [
    "#### In this set of exercises you will focus on setting up project dependencies in a file for server side code. You can do it!"
   ]
  },
  {
   "cell_type": "markdown",
   "metadata": {
    "editable": false
   },
   "source": [
    "1) Install the 'express' package from the terminal. Include the 'express' package in your project and create an instance of an express app in the file named `starter.js`.\n"
   ]
  },
  {
   "cell_type": "markdown",
   "metadata": {
    "editable": false,
    "toggleable": true,
    "ulab": {
     "buttons": {
      "ulab-button-toggle-33a5b602": {
       "style": "primary"
      }
     }
    }
   },
   "source": [
    "```\n",
    "// Express to run server and routes\n",
    "const express = require('express');\n",
    "\n",
    "// Start up an instance of app\n",
    "const app = express();\n",
    "```"
   ]
  },
  {
   "cell_type": "markdown",
   "metadata": {
    "editable": false
   },
   "source": [
    "2) Include the 'cors' package in your project and connect it to the express app instance."
   ]
  },
  {
   "cell_type": "markdown",
   "metadata": {
    "editable": false,
    "toggleable": true,
    "ulab": {
     "buttons": {
      "ulab-button-toggle-4d683c74": {
       "style": "primary"
      }
     }
    }
   },
   "source": [
    "Once there is an instance of the express app saved to variable, the `use()` method is useful for connecting project dependencies:\n",
    "```\n",
    "const cors = require('cors');\n",
    "app.use(cors());\n",
    "```"
   ]
  },
  {
   "cell_type": "markdown",
   "metadata": {
    "editable": false
   },
   "source": [
    "<!--\n",
    "%%ulab_page_divider\n",
    "--><hr/>"
   ]
  },
  {
   "cell_type": "markdown",
   "metadata": {
    "editable": false
   },
   "source": [
    "## L2- Set 3"
   ]
  },
  {
   "cell_type": "markdown",
   "metadata": {
    "editable": false
   },
   "source": [
    "#### In this set of exercises you will demonstrate creating and starting a server with Node and Express. Your serve!"
   ]
  },
  {
   "cell_type": "markdown",
   "metadata": {
    "editable": false
   },
   "source": [
    "1) Create a server with a callback function. Inside the callback function, log the port number so you can see it is working.\n",
    "\n",
    "2) Test your server by running the `starter.js` file from the terminal. *Make sure you have saved your file before running the terminal command.* \n",
    "\n",
    "Note that you can open a second terminal in the toolbar with `File>New>Terminal`. You can use the `curl` command with `localhost:{your port}` to see if your server returns what you expect."
   ]
  },
  {
   "cell_type": "markdown",
   "metadata": {
    "editable": false,
    "toggleable": true,
    "ulab": {
     "buttons": {
      "ulab-button-toggle-b946c60b": {
       "style": "primary"
      }
     }
    }
   },
   "source": [
    "```\n",
    "const server = app.listen(port, listening);\n",
    "function listening(){\n",
    "    // console.log(server);\n",
    "    console.log(`running on localhost: ${port}`);\n",
    "};\n",
    "```\n",
    "`node starter.js`"
   ]
  },
  {
   "cell_type": "markdown",
   "metadata": {
    "editable": false
   },
   "source": [
    "<!--\n",
    "%%ulab_page_divider\n",
    "--><hr/>"
   ]
  },
  {
   "cell_type": "markdown",
   "metadata": {
    "editable": false
   },
   "source": [
    "# Lesson 3 Requests & Routes"
   ]
  },
  {
   "cell_type": "markdown",
   "metadata": {
    "editable": false
   },
   "source": [
    "#### This exercise focuses on GET routes. You GOT it!"
   ]
  },
  {
   "cell_type": "markdown",
   "metadata": {
    "editable": false
   },
   "source": [
    "## L3- Set 1"
   ]
  },
  {
   "cell_type": "markdown",
   "metadata": {
    "editable": false
   },
   "source": [
    "1) In the file `server.js`, create a GET route that uses the url `/all` and returns the JavaScript object named `projectData`."
   ]
  },
  {
   "cell_type": "markdown",
   "metadata": {
    "editable": false,
    "toggleable": true,
    "ulab": {
     "buttons": {
      "ulab-button-toggle-8a622566": {
       "style": "primary"
      }
     }
    }
   },
   "source": [
    "This example uses a callback function:\n",
    "```\n",
    "app.get('/all', sendData);\n",
    "\n",
    "\n",
    "function sendData (request, response) {\n",
    "  response.send(projectData);\n",
    "};\n",
    "```\n",
    "\n",
    "You could also just pass a function in as the second parameter to `.get()` like this:\n",
    "```\n",
    "app.get('/all', function (request, response) {\n",
    "  response.send(projectData);\n",
    "});\n",
    "```\n",
    "\n",
    "Or even with an arrow function like this:\n",
    "```\n",
    "app.get('/all', (request, response)=> {\n",
    "  response.send(projectData);\n",
    "});\n",
    "```"
   ]
  },
  {
   "cell_type": "markdown",
   "metadata": {
    "editable": false
   },
   "source": [
    "<!--\n",
    "%%ulab_page_divider\n",
    "--><hr/>"
   ]
  },
  {
   "cell_type": "markdown",
   "metadata": {
    "editable": false
   },
   "source": [
    "## L3- Set 2"
   ]
  },
  {
   "cell_type": "markdown",
   "metadata": {
    "editable": false
   },
   "source": [
    "#### In this set of exercises you will tangle with POST routes and your favorite animal."
   ]
  },
  {
   "cell_type": "markdown",
   "metadata": {
    "editable": false
   },
   "source": [
    "1) In the file, `server.js`, create a POST route that uses the url `/add` and sends the response `POST received` when used to make a request."
   ]
  },
  {
   "cell_type": "markdown",
   "metadata": {
    "editable": false,
    "toggleable": true,
    "ulab": {
     "buttons": {
      "ulab-button-toggle-2531db2e": {
       "style": "primary"
      }
     }
    }
   },
   "source": [
    "The parameters used here, `req` and `res`, are shortened versions of and equivalent to `request` and `response`, which are also often used for naming the parameters of route methods. \n",
    "```\n",
    "app.post('/add', callBack);\n",
    "\n",
    "function callBack(req,res){\n",
    "  res.send('POST received')\n",
    "}\n",
    "```"
   ]
  },
  {
   "cell_type": "markdown",
   "metadata": {
    "editable": false
   },
   "source": [
    "2) Add a POST route for adding a favorite animal via the path `’/animal’` to an array named `data`. You will need to create the array as well."
   ]
  },
  {
   "cell_type": "markdown",
   "metadata": {
    "editable": false,
    "toggleable": true,
    "ulab": {
     "buttons": {
      "ulab-button-toggle-01c64c3f": {
       "style": "primary"
      }
     }
    }
   },
   "source": [
    "```\n",
    "const data = [];\n",
    "\n",
    "app.post('/animal', addAnimal);\n",
    "\n",
    "function addAnimal (req,res){\n",
    "    data.push(req.body);\n",
    "};\n",
    "\n",
    "```\n",
    "\n",
    "You're getting there! This stuff can be hard to pick up at first, but your brain is starting to untangle this, I promise!"
   ]
  },
  {
   "cell_type": "markdown",
   "metadata": {
    "editable": false
   },
   "source": [
    "<!--\n",
    "%%ulab_page_divider\n",
    "--><hr/>"
   ]
  },
  {
   "cell_type": "markdown",
   "metadata": {
    "editable": false
   },
   "source": [
    "## L3- Set 3"
   ]
  },
  {
   "cell_type": "markdown",
   "metadata": {
    "editable": false
   },
   "source": [
    "#### In this exercise you will start to understand how a route setup on the server side, is used on the client side with a request. \n",
    "\n",
    ">This is meant to be a starting place for you to see how things work a bit, so don't worry too much about code you don't understand yet-- we're building up to it..."
   ]
  },
  {
   "cell_type": "markdown",
   "metadata": {
    "editable": false
   },
   "source": [
    "1) In the file named `app.js`, which is located in the `website` directory of this project, call the function `postData` with the url `/addAnimal` and the name of your favorite animal to create a POST request that uses the POST route you setup in `server.js`."
   ]
  },
  {
   "cell_type": "markdown",
   "metadata": {
    "editable": false,
    "toggleable": true,
    "ulab": {
     "buttons": {
      "ulab-button-toggle-ac901f53": {
       "style": "primary"
      }
     }
    }
   },
   "source": [
    "`postData('/animal', {animal:'lion'})`\n",
    "\n",
    "See?! That wasn't so bad, right?"
   ]
  },
  {
   "cell_type": "markdown",
   "metadata": {
    "editable": false
   },
   "source": [
    "<!--\n",
    "%%ulab_page_divider\n",
    "--><hr/>"
   ]
  },
  {
   "cell_type": "markdown",
   "metadata": {
    "editable": false
   },
   "source": [
    "# Lesson 4 Asynchronous JavaScript"
   ]
  },
  {
   "cell_type": "markdown",
   "metadata": {
    "editable": false
   },
   "source": [
    "#### In this exercise you will essentially write the function that was provided for you in the last exercise of Lesson 3, so it's there somewhere in your brain...you got this!"
   ]
  },
  {
   "cell_type": "markdown",
   "metadata": {
    "editable": false
   },
   "source": [
    "## L4- Set 1"
   ]
  },
  {
   "cell_type": "markdown",
   "metadata": {
    "editable": false
   },
   "source": [
    "1) In the file `getPost.js` (located in the `website` directory of this project), write an `async` function to make a POST request that has two arguments: a url to make the POST to, and a JavaScript object holding the data to post."
   ]
  },
  {
   "cell_type": "markdown",
   "metadata": {
    "editable": false,
    "toggleable": true,
    "ulab": {
     "buttons": {
      "ulab-button-toggle-b520b7b8": {
       "style": "primary"
      }
     }
    }
   },
   "source": [
    "```\n",
    "const postData = async ( url = '', data = {})=>{\n",
    "\n",
    "    const response = await fetch(url, {\n",
    "    method: 'POST', \n",
    "    credentials: 'same-origin', \n",
    "    headers: {\n",
    "        'Content-Type': 'application/json',\n",
    "    },\n",
    "    body: JSON.stringify(data), // body data type must match \"Content-Type\" header        \n",
    "  });\n",
    "\n",
    "    try {\n",
    "      const newData = await response.json();\n",
    "      return newData\n",
    "    }catch(error) {\n",
    "    console.log(\"error\", error);\n",
    "    }\n",
    "}\n",
    "```"
   ]
  },
  {
   "cell_type": "markdown",
   "metadata": {
    "editable": false
   },
   "source": [
    "<!--\n",
    "%%ulab_page_divider\n",
    "--><hr/>"
   ]
  },
  {
   "cell_type": "markdown",
   "metadata": {
    "editable": false
   },
   "source": [
    "## L4- Set 2"
   ]
  },
  {
   "cell_type": "markdown",
   "metadata": {
    "editable": false
   },
   "source": [
    "#### In this exercise you will GET async with it..."
   ]
  },
  {
   "cell_type": "markdown",
   "metadata": {
    "editable": false
   },
   "source": [
    "1) In the file `getPost.js`, write an `async` function to make a GET request that has one argument: a url to make the GET request to. \n",
    "\n",
    "*Hint* - Fetch is your friend."
   ]
  },
  {
   "cell_type": "markdown",
   "metadata": {
    "editable": false,
    "toggleable": true,
    "ulab": {
     "buttons": {
      "ulab-button-toggle-0ea0e1fa": {
       "style": "primary"
      }
     }
    }
   },
   "source": [
    "```\n",
    "const retrieveData = async (url='') =>{ \n",
    "  const request = await fetch(url);\n",
    "  try {\n",
    "  // Transform into JSON\n",
    "  const allData = await request.json()\n",
    "  }\n",
    "  catch(error) {\n",
    "    console.log(\"error\", error);\n",
    "    // appropriately handle the error\n",
    "  }\n",
    "}\n",
    "```"
   ]
  },
  {
   "cell_type": "markdown",
   "metadata": {
    "editable": false
   },
   "source": [
    "<!--\n",
    "%%ulab_page_divider\n",
    "--><hr/>"
   ]
  },
  {
   "cell_type": "markdown",
   "metadata": {
    "editable": false
   },
   "source": [
    "## L4 Set 3"
   ]
  },
  {
   "cell_type": "markdown",
   "metadata": {
    "editable": false
   },
   "source": [
    "#### In this exercise, you will bring it all together by chaining async requests."
   ]
  },
  {
   "cell_type": "markdown",
   "metadata": {
    "editable": false
   },
   "source": [
    "1) In the file `getPost.js`, write a function that chains together the two `async` functions you have previously written, so that you make a POST request to the `/animal` route, and then retrieve the data with a GET request to the `/all` path. \n",
    "\n",
    "You should pass in a data object of your favorite animal as the second argument for the POST request.\n",
    "\n",
    "Call your function as the last line of code in the file named `getPost.js`."
   ]
  },
  {
   "cell_type": "markdown",
   "metadata": {
    "editable": false,
    "toggleable": true,
    "ulab": {
     "buttons": {
      "ulab-button-toggle-897c0143": {
       "style": "primary"
      }
     }
    }
   },
   "source": [
    "```\n",
    "function postGet(){\n",
    "  postData('/animal', {fav:'lion'})\n",
    "    .then(function(data){\n",
    "      retrieveData('/all')\n",
    "    })\n",
    "}\n",
    "\n",
    "postGet()\n",
    "```"
   ]
  }
 ],
 "metadata": {
  "kernelspec": {
   "display_name": "Python 3",
   "language": "python",
   "name": "python3"
  },
  "language_info": {
   "codemirror_mode": {
    "name": "ipython",
    "version": 3
   },
   "file_extension": ".py",
   "mimetype": "text/x-python",
   "name": "python",
   "nbconvert_exporter": "python",
   "pygments_lexer": "ipython3",
   "version": "3.6.3"
  },
  "ulab_nb_type": "guided"
 },
 "nbformat": 4,
 "nbformat_minor": 4
}
